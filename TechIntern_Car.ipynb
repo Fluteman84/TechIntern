{
  "cells": [
    {
      "cell_type": "code",
      "execution_count": 2,
      "id": "96d82254-8ad2-4270-bf89-8c7618cf71b4",
      "metadata": {
        "id": "96d82254-8ad2-4270-bf89-8c7618cf71b4"
      },
      "outputs": [],
      "source": [
        "import pandas as pd\n",
        "import matplotlib.pyplot as plt\n",
        "import seaborn as sns\n",
        "import numpy as np\n",
        "from sklearn.linear_model import LinearRegression\n",
        "from sklearn.metrics import r2_score\n",
        "from sklearn.preprocessing import OneHotEncoder\n",
        "from sklearn.compose import make_column_transformer\n",
        "from sklearn.pipeline import make_pipeline\n",
        "from sklearn.model_selection import train_test_split\n",
        "sns.set_theme(style=\"whitegrid\")\n",
        "\n",
        "data = pd.read_csv('https://raw.githubusercontent.com/Fluteman84/TechIntern/main/Sportcarprice.csv')"
      ]
    },
    {
      "cell_type": "code",
      "execution_count": 3,
      "id": "9c951f8e-7257-4c34-ae27-598373ff09cb",
      "metadata": {
        "id": "9c951f8e-7257-4c34-ae27-598373ff09cb",
        "outputId": "85849fa3-c7cc-476e-c467-4686b7e84afe",
        "colab": {
          "base_uri": "https://localhost:8080/",
          "height": 423
        }
      },
      "outputs": [
        {
          "output_type": "execute_result",
          "data": {
            "text/plain": [
              "         Car Make Car Model  Year Engine Size (L) Horsepower Torque (lb-ft)  \\\n",
              "0         Porsche       911  2022               3        379            331   \n",
              "1     Lamborghini   Huracan  2021             5.2        630            443   \n",
              "2         Ferrari   488 GTB  2022             3.9        661            561   \n",
              "3            Audi        R8  2022             5.2        562            406   \n",
              "4         McLaren      720S  2021               4        710            568   \n",
              "...           ...       ...   ...             ...        ...            ...   \n",
              "1002   Koenigsegg     Jesko  2022               5       1280           1106   \n",
              "1003        Lotus     Evija  2021  Electric Motor       1972           1254   \n",
              "1004      McLaren     Senna  2021               4        789            590   \n",
              "1005       Pagani    Huayra  2021               6        764            738   \n",
              "1006        Rimac    Nevera  2021  Electric Motor       1888           1696   \n",
              "\n",
              "     0-60 MPH Time (seconds) Price (in USD)  \n",
              "0                          4        101,200  \n",
              "1                        2.8        274,390  \n",
              "2                          3        333,750  \n",
              "3                        3.2        142,700  \n",
              "4                        2.7        298,000  \n",
              "...                      ...            ...  \n",
              "1002                     2.5      3,000,000  \n",
              "1003                       2      2,000,000  \n",
              "1004                     2.7      1,000,000  \n",
              "1005                       3      2,600,000  \n",
              "1006                    1.85      2,400,000  \n",
              "\n",
              "[1007 rows x 8 columns]"
            ],
            "text/html": [
              "\n",
              "  <div id=\"df-d0eccff4-6013-4e6b-a7b6-e8105c07f674\">\n",
              "    <div class=\"colab-df-container\">\n",
              "      <div>\n",
              "<style scoped>\n",
              "    .dataframe tbody tr th:only-of-type {\n",
              "        vertical-align: middle;\n",
              "    }\n",
              "\n",
              "    .dataframe tbody tr th {\n",
              "        vertical-align: top;\n",
              "    }\n",
              "\n",
              "    .dataframe thead th {\n",
              "        text-align: right;\n",
              "    }\n",
              "</style>\n",
              "<table border=\"1\" class=\"dataframe\">\n",
              "  <thead>\n",
              "    <tr style=\"text-align: right;\">\n",
              "      <th></th>\n",
              "      <th>Car Make</th>\n",
              "      <th>Car Model</th>\n",
              "      <th>Year</th>\n",
              "      <th>Engine Size (L)</th>\n",
              "      <th>Horsepower</th>\n",
              "      <th>Torque (lb-ft)</th>\n",
              "      <th>0-60 MPH Time (seconds)</th>\n",
              "      <th>Price (in USD)</th>\n",
              "    </tr>\n",
              "  </thead>\n",
              "  <tbody>\n",
              "    <tr>\n",
              "      <th>0</th>\n",
              "      <td>Porsche</td>\n",
              "      <td>911</td>\n",
              "      <td>2022</td>\n",
              "      <td>3</td>\n",
              "      <td>379</td>\n",
              "      <td>331</td>\n",
              "      <td>4</td>\n",
              "      <td>101,200</td>\n",
              "    </tr>\n",
              "    <tr>\n",
              "      <th>1</th>\n",
              "      <td>Lamborghini</td>\n",
              "      <td>Huracan</td>\n",
              "      <td>2021</td>\n",
              "      <td>5.2</td>\n",
              "      <td>630</td>\n",
              "      <td>443</td>\n",
              "      <td>2.8</td>\n",
              "      <td>274,390</td>\n",
              "    </tr>\n",
              "    <tr>\n",
              "      <th>2</th>\n",
              "      <td>Ferrari</td>\n",
              "      <td>488 GTB</td>\n",
              "      <td>2022</td>\n",
              "      <td>3.9</td>\n",
              "      <td>661</td>\n",
              "      <td>561</td>\n",
              "      <td>3</td>\n",
              "      <td>333,750</td>\n",
              "    </tr>\n",
              "    <tr>\n",
              "      <th>3</th>\n",
              "      <td>Audi</td>\n",
              "      <td>R8</td>\n",
              "      <td>2022</td>\n",
              "      <td>5.2</td>\n",
              "      <td>562</td>\n",
              "      <td>406</td>\n",
              "      <td>3.2</td>\n",
              "      <td>142,700</td>\n",
              "    </tr>\n",
              "    <tr>\n",
              "      <th>4</th>\n",
              "      <td>McLaren</td>\n",
              "      <td>720S</td>\n",
              "      <td>2021</td>\n",
              "      <td>4</td>\n",
              "      <td>710</td>\n",
              "      <td>568</td>\n",
              "      <td>2.7</td>\n",
              "      <td>298,000</td>\n",
              "    </tr>\n",
              "    <tr>\n",
              "      <th>...</th>\n",
              "      <td>...</td>\n",
              "      <td>...</td>\n",
              "      <td>...</td>\n",
              "      <td>...</td>\n",
              "      <td>...</td>\n",
              "      <td>...</td>\n",
              "      <td>...</td>\n",
              "      <td>...</td>\n",
              "    </tr>\n",
              "    <tr>\n",
              "      <th>1002</th>\n",
              "      <td>Koenigsegg</td>\n",
              "      <td>Jesko</td>\n",
              "      <td>2022</td>\n",
              "      <td>5</td>\n",
              "      <td>1280</td>\n",
              "      <td>1106</td>\n",
              "      <td>2.5</td>\n",
              "      <td>3,000,000</td>\n",
              "    </tr>\n",
              "    <tr>\n",
              "      <th>1003</th>\n",
              "      <td>Lotus</td>\n",
              "      <td>Evija</td>\n",
              "      <td>2021</td>\n",
              "      <td>Electric Motor</td>\n",
              "      <td>1972</td>\n",
              "      <td>1254</td>\n",
              "      <td>2</td>\n",
              "      <td>2,000,000</td>\n",
              "    </tr>\n",
              "    <tr>\n",
              "      <th>1004</th>\n",
              "      <td>McLaren</td>\n",
              "      <td>Senna</td>\n",
              "      <td>2021</td>\n",
              "      <td>4</td>\n",
              "      <td>789</td>\n",
              "      <td>590</td>\n",
              "      <td>2.7</td>\n",
              "      <td>1,000,000</td>\n",
              "    </tr>\n",
              "    <tr>\n",
              "      <th>1005</th>\n",
              "      <td>Pagani</td>\n",
              "      <td>Huayra</td>\n",
              "      <td>2021</td>\n",
              "      <td>6</td>\n",
              "      <td>764</td>\n",
              "      <td>738</td>\n",
              "      <td>3</td>\n",
              "      <td>2,600,000</td>\n",
              "    </tr>\n",
              "    <tr>\n",
              "      <th>1006</th>\n",
              "      <td>Rimac</td>\n",
              "      <td>Nevera</td>\n",
              "      <td>2021</td>\n",
              "      <td>Electric Motor</td>\n",
              "      <td>1888</td>\n",
              "      <td>1696</td>\n",
              "      <td>1.85</td>\n",
              "      <td>2,400,000</td>\n",
              "    </tr>\n",
              "  </tbody>\n",
              "</table>\n",
              "<p>1007 rows × 8 columns</p>\n",
              "</div>\n",
              "      <button class=\"colab-df-convert\" onclick=\"convertToInteractive('df-d0eccff4-6013-4e6b-a7b6-e8105c07f674')\"\n",
              "              title=\"Convert this dataframe to an interactive table.\"\n",
              "              style=\"display:none;\">\n",
              "        \n",
              "  <svg xmlns=\"http://www.w3.org/2000/svg\" height=\"24px\"viewBox=\"0 0 24 24\"\n",
              "       width=\"24px\">\n",
              "    <path d=\"M0 0h24v24H0V0z\" fill=\"none\"/>\n",
              "    <path d=\"M18.56 5.44l.94 2.06.94-2.06 2.06-.94-2.06-.94-.94-2.06-.94 2.06-2.06.94zm-11 1L8.5 8.5l.94-2.06 2.06-.94-2.06-.94L8.5 2.5l-.94 2.06-2.06.94zm10 10l.94 2.06.94-2.06 2.06-.94-2.06-.94-.94-2.06-.94 2.06-2.06.94z\"/><path d=\"M17.41 7.96l-1.37-1.37c-.4-.4-.92-.59-1.43-.59-.52 0-1.04.2-1.43.59L10.3 9.45l-7.72 7.72c-.78.78-.78 2.05 0 2.83L4 21.41c.39.39.9.59 1.41.59.51 0 1.02-.2 1.41-.59l7.78-7.78 2.81-2.81c.8-.78.8-2.07 0-2.86zM5.41 20L4 18.59l7.72-7.72 1.47 1.35L5.41 20z\"/>\n",
              "  </svg>\n",
              "      </button>\n",
              "      \n",
              "  <style>\n",
              "    .colab-df-container {\n",
              "      display:flex;\n",
              "      flex-wrap:wrap;\n",
              "      gap: 12px;\n",
              "    }\n",
              "\n",
              "    .colab-df-convert {\n",
              "      background-color: #E8F0FE;\n",
              "      border: none;\n",
              "      border-radius: 50%;\n",
              "      cursor: pointer;\n",
              "      display: none;\n",
              "      fill: #1967D2;\n",
              "      height: 32px;\n",
              "      padding: 0 0 0 0;\n",
              "      width: 32px;\n",
              "    }\n",
              "\n",
              "    .colab-df-convert:hover {\n",
              "      background-color: #E2EBFA;\n",
              "      box-shadow: 0px 1px 2px rgba(60, 64, 67, 0.3), 0px 1px 3px 1px rgba(60, 64, 67, 0.15);\n",
              "      fill: #174EA6;\n",
              "    }\n",
              "\n",
              "    [theme=dark] .colab-df-convert {\n",
              "      background-color: #3B4455;\n",
              "      fill: #D2E3FC;\n",
              "    }\n",
              "\n",
              "    [theme=dark] .colab-df-convert:hover {\n",
              "      background-color: #434B5C;\n",
              "      box-shadow: 0px 1px 3px 1px rgba(0, 0, 0, 0.15);\n",
              "      filter: drop-shadow(0px 1px 2px rgba(0, 0, 0, 0.3));\n",
              "      fill: #FFFFFF;\n",
              "    }\n",
              "  </style>\n",
              "\n",
              "      <script>\n",
              "        const buttonEl =\n",
              "          document.querySelector('#df-d0eccff4-6013-4e6b-a7b6-e8105c07f674 button.colab-df-convert');\n",
              "        buttonEl.style.display =\n",
              "          google.colab.kernel.accessAllowed ? 'block' : 'none';\n",
              "\n",
              "        async function convertToInteractive(key) {\n",
              "          const element = document.querySelector('#df-d0eccff4-6013-4e6b-a7b6-e8105c07f674');\n",
              "          const dataTable =\n",
              "            await google.colab.kernel.invokeFunction('convertToInteractive',\n",
              "                                                     [key], {});\n",
              "          if (!dataTable) return;\n",
              "\n",
              "          const docLinkHtml = 'Like what you see? Visit the ' +\n",
              "            '<a target=\"_blank\" href=https://colab.research.google.com/notebooks/data_table.ipynb>data table notebook</a>'\n",
              "            + ' to learn more about interactive tables.';\n",
              "          element.innerHTML = '';\n",
              "          dataTable['output_type'] = 'display_data';\n",
              "          await google.colab.output.renderOutput(dataTable, element);\n",
              "          const docLink = document.createElement('div');\n",
              "          docLink.innerHTML = docLinkHtml;\n",
              "          element.appendChild(docLink);\n",
              "        }\n",
              "      </script>\n",
              "    </div>\n",
              "  </div>\n",
              "  "
            ]
          },
          "metadata": {},
          "execution_count": 3
        }
      ],
      "source": [
        "data\n"
      ]
    },
    {
      "cell_type": "code",
      "execution_count": 4,
      "id": "9f3334a7-c250-49bc-aff3-2cbd04e23489",
      "metadata": {
        "id": "9f3334a7-c250-49bc-aff3-2cbd04e23489",
        "colab": {
          "base_uri": "https://localhost:8080/"
        },
        "outputId": "c8aa758a-3d9a-418a-a6d6-134333366a2b"
      },
      "outputs": [
        {
          "output_type": "execute_result",
          "data": {
            "text/plain": [
              "Car Make                    0\n",
              "Car Model                   0\n",
              "Year                        0\n",
              "Engine Size (L)            10\n",
              "Horsepower                  0\n",
              "Torque (lb-ft)              3\n",
              "0-60 MPH Time (seconds)     0\n",
              "Price (in USD)              0\n",
              "dtype: int64"
            ]
          },
          "metadata": {},
          "execution_count": 4
        }
      ],
      "source": [
        "data.isnull().sum()"
      ]
    },
    {
      "cell_type": "code",
      "execution_count": 5,
      "id": "147fae30-86d5-4867-a1a6-604965135698",
      "metadata": {
        "id": "147fae30-86d5-4867-a1a6-604965135698"
      },
      "outputs": [],
      "source": [
        "data = data.drop(columns = '0-60 MPH Time (seconds)',axis =1)"
      ]
    },
    {
      "cell_type": "code",
      "execution_count": 6,
      "id": "8e7bdaf8-4c44-46d3-9628-3f3613936731",
      "metadata": {
        "id": "8e7bdaf8-4c44-46d3-9628-3f3613936731",
        "colab": {
          "base_uri": "https://localhost:8080/"
        },
        "outputId": "3c6e6fb6-4288-4a3e-92fc-3df540c9576e"
      },
      "outputs": [
        {
          "output_type": "stream",
          "name": "stdout",
          "text": [
            "<class 'pandas.core.frame.DataFrame'>\n",
            "RangeIndex: 1007 entries, 0 to 1006\n",
            "Data columns (total 7 columns):\n",
            " #   Column           Non-Null Count  Dtype \n",
            "---  ------           --------------  ----- \n",
            " 0   Car Make         1007 non-null   object\n",
            " 1   Car Model        1007 non-null   object\n",
            " 2   Year             1007 non-null   int64 \n",
            " 3   Engine Size (L)  997 non-null    object\n",
            " 4   Horsepower       1007 non-null   object\n",
            " 5   Torque (lb-ft)   1004 non-null   object\n",
            " 6   Price (in USD)   1007 non-null   object\n",
            "dtypes: int64(1), object(6)\n",
            "memory usage: 55.2+ KB\n"
          ]
        }
      ],
      "source": [
        "data.info()"
      ]
    },
    {
      "cell_type": "code",
      "execution_count": 7,
      "id": "7d89445c-d34e-4472-a78d-cfc9beeae5ad",
      "metadata": {
        "id": "7d89445c-d34e-4472-a78d-cfc9beeae5ad"
      },
      "outputs": [],
      "source": [
        "data['Price (in USD)'] = data['Price (in USD)'].str.replace(',','')"
      ]
    },
    {
      "cell_type": "code",
      "execution_count": 8,
      "id": "3505ba4c-82fa-469f-b367-3aa170173d8e",
      "metadata": {
        "id": "3505ba4c-82fa-469f-b367-3aa170173d8e"
      },
      "outputs": [],
      "source": [
        "data['Price (in USD)'] = data['Price (in USD)'].astype(int)"
      ]
    },
    {
      "cell_type": "code",
      "execution_count": 9,
      "id": "4f72a366-c438-4920-b685-345eeaeefd0b",
      "metadata": {
        "id": "4f72a366-c438-4920-b685-345eeaeefd0b",
        "colab": {
          "base_uri": "https://localhost:8080/"
        },
        "outputId": "86e02e47-fea2-4c7e-819c-1297b9f738ad"
      },
      "outputs": [
        {
          "output_type": "stream",
          "name": "stdout",
          "text": [
            "<class 'pandas.core.frame.DataFrame'>\n",
            "RangeIndex: 1007 entries, 0 to 1006\n",
            "Data columns (total 7 columns):\n",
            " #   Column           Non-Null Count  Dtype \n",
            "---  ------           --------------  ----- \n",
            " 0   Car Make         1007 non-null   object\n",
            " 1   Car Model        1007 non-null   object\n",
            " 2   Year             1007 non-null   int64 \n",
            " 3   Engine Size (L)  997 non-null    object\n",
            " 4   Horsepower       1007 non-null   object\n",
            " 5   Torque (lb-ft)   1004 non-null   object\n",
            " 6   Price (in USD)   1007 non-null   int64 \n",
            "dtypes: int64(2), object(5)\n",
            "memory usage: 55.2+ KB\n"
          ]
        }
      ],
      "source": [
        "data.info()"
      ]
    },
    {
      "cell_type": "code",
      "execution_count": 11,
      "id": "72685c2c-d9a6-4663-8e28-f294253619ad",
      "metadata": {
        "id": "72685c2c-d9a6-4663-8e28-f294253619ad"
      },
      "outputs": [],
      "source": [
        "data  = data.drop(columns = 'Torque (lb-ft)',axis=1)"
      ]
    },
    {
      "cell_type": "code",
      "execution_count": 13,
      "id": "eef28c50-5ee4-4ccf-8079-4822e21851fa",
      "metadata": {
        "id": "eef28c50-5ee4-4ccf-8079-4822e21851fa",
        "colab": {
          "base_uri": "https://localhost:8080/"
        },
        "outputId": "0ebfcbaa-3cda-4e09-b3c1-7e2684bd236f"
      },
      "outputs": [
        {
          "output_type": "execute_result",
          "data": {
            "text/plain": [
              "Car Make            0\n",
              "Car Model           0\n",
              "Year                0\n",
              "Engine Size (L)    10\n",
              "Horsepower          0\n",
              "Price (in USD)      0\n",
              "dtype: int64"
            ]
          },
          "metadata": {},
          "execution_count": 13
        }
      ],
      "source": [
        "data.isnull().sum()"
      ]
    },
    {
      "cell_type": "code",
      "execution_count": 14,
      "id": "4d320309-8762-46fb-8a89-e88129ee0a9c",
      "metadata": {
        "id": "4d320309-8762-46fb-8a89-e88129ee0a9c"
      },
      "outputs": [],
      "source": [
        "data = data.reset_index(drop = True)"
      ]
    },
    {
      "cell_type": "code",
      "execution_count": 16,
      "id": "45f00b92-02e6-4817-896a-82132bb09ae2",
      "metadata": {
        "id": "45f00b92-02e6-4817-896a-82132bb09ae2",
        "colab": {
          "base_uri": "https://localhost:8080/",
          "height": 300
        },
        "outputId": "eed623d7-8ffb-4843-b75f-17cb73868911"
      },
      "outputs": [
        {
          "output_type": "execute_result",
          "data": {
            "text/plain": [
              "              Year  Price (in USD)\n",
              "count  1007.000000    1.007000e+03\n",
              "mean   2021.201589    3.820359e+05\n",
              "std       2.019802    7.383227e+05\n",
              "min    1965.000000    2.500000e+04\n",
              "25%    2021.000000    7.180000e+04\n",
              "50%    2021.000000    1.400000e+05\n",
              "75%    2022.000000    2.500000e+05\n",
              "max    2023.000000    5.200000e+06"
            ],
            "text/html": [
              "\n",
              "  <div id=\"df-cad9fe96-ed83-458c-800e-443e6b4ee0fe\">\n",
              "    <div class=\"colab-df-container\">\n",
              "      <div>\n",
              "<style scoped>\n",
              "    .dataframe tbody tr th:only-of-type {\n",
              "        vertical-align: middle;\n",
              "    }\n",
              "\n",
              "    .dataframe tbody tr th {\n",
              "        vertical-align: top;\n",
              "    }\n",
              "\n",
              "    .dataframe thead th {\n",
              "        text-align: right;\n",
              "    }\n",
              "</style>\n",
              "<table border=\"1\" class=\"dataframe\">\n",
              "  <thead>\n",
              "    <tr style=\"text-align: right;\">\n",
              "      <th></th>\n",
              "      <th>Year</th>\n",
              "      <th>Price (in USD)</th>\n",
              "    </tr>\n",
              "  </thead>\n",
              "  <tbody>\n",
              "    <tr>\n",
              "      <th>count</th>\n",
              "      <td>1007.000000</td>\n",
              "      <td>1.007000e+03</td>\n",
              "    </tr>\n",
              "    <tr>\n",
              "      <th>mean</th>\n",
              "      <td>2021.201589</td>\n",
              "      <td>3.820359e+05</td>\n",
              "    </tr>\n",
              "    <tr>\n",
              "      <th>std</th>\n",
              "      <td>2.019802</td>\n",
              "      <td>7.383227e+05</td>\n",
              "    </tr>\n",
              "    <tr>\n",
              "      <th>min</th>\n",
              "      <td>1965.000000</td>\n",
              "      <td>2.500000e+04</td>\n",
              "    </tr>\n",
              "    <tr>\n",
              "      <th>25%</th>\n",
              "      <td>2021.000000</td>\n",
              "      <td>7.180000e+04</td>\n",
              "    </tr>\n",
              "    <tr>\n",
              "      <th>50%</th>\n",
              "      <td>2021.000000</td>\n",
              "      <td>1.400000e+05</td>\n",
              "    </tr>\n",
              "    <tr>\n",
              "      <th>75%</th>\n",
              "      <td>2022.000000</td>\n",
              "      <td>2.500000e+05</td>\n",
              "    </tr>\n",
              "    <tr>\n",
              "      <th>max</th>\n",
              "      <td>2023.000000</td>\n",
              "      <td>5.200000e+06</td>\n",
              "    </tr>\n",
              "  </tbody>\n",
              "</table>\n",
              "</div>\n",
              "      <button class=\"colab-df-convert\" onclick=\"convertToInteractive('df-cad9fe96-ed83-458c-800e-443e6b4ee0fe')\"\n",
              "              title=\"Convert this dataframe to an interactive table.\"\n",
              "              style=\"display:none;\">\n",
              "        \n",
              "  <svg xmlns=\"http://www.w3.org/2000/svg\" height=\"24px\"viewBox=\"0 0 24 24\"\n",
              "       width=\"24px\">\n",
              "    <path d=\"M0 0h24v24H0V0z\" fill=\"none\"/>\n",
              "    <path d=\"M18.56 5.44l.94 2.06.94-2.06 2.06-.94-2.06-.94-.94-2.06-.94 2.06-2.06.94zm-11 1L8.5 8.5l.94-2.06 2.06-.94-2.06-.94L8.5 2.5l-.94 2.06-2.06.94zm10 10l.94 2.06.94-2.06 2.06-.94-2.06-.94-.94-2.06-.94 2.06-2.06.94z\"/><path d=\"M17.41 7.96l-1.37-1.37c-.4-.4-.92-.59-1.43-.59-.52 0-1.04.2-1.43.59L10.3 9.45l-7.72 7.72c-.78.78-.78 2.05 0 2.83L4 21.41c.39.39.9.59 1.41.59.51 0 1.02-.2 1.41-.59l7.78-7.78 2.81-2.81c.8-.78.8-2.07 0-2.86zM5.41 20L4 18.59l7.72-7.72 1.47 1.35L5.41 20z\"/>\n",
              "  </svg>\n",
              "      </button>\n",
              "      \n",
              "  <style>\n",
              "    .colab-df-container {\n",
              "      display:flex;\n",
              "      flex-wrap:wrap;\n",
              "      gap: 12px;\n",
              "    }\n",
              "\n",
              "    .colab-df-convert {\n",
              "      background-color: #E8F0FE;\n",
              "      border: none;\n",
              "      border-radius: 50%;\n",
              "      cursor: pointer;\n",
              "      display: none;\n",
              "      fill: #1967D2;\n",
              "      height: 32px;\n",
              "      padding: 0 0 0 0;\n",
              "      width: 32px;\n",
              "    }\n",
              "\n",
              "    .colab-df-convert:hover {\n",
              "      background-color: #E2EBFA;\n",
              "      box-shadow: 0px 1px 2px rgba(60, 64, 67, 0.3), 0px 1px 3px 1px rgba(60, 64, 67, 0.15);\n",
              "      fill: #174EA6;\n",
              "    }\n",
              "\n",
              "    [theme=dark] .colab-df-convert {\n",
              "      background-color: #3B4455;\n",
              "      fill: #D2E3FC;\n",
              "    }\n",
              "\n",
              "    [theme=dark] .colab-df-convert:hover {\n",
              "      background-color: #434B5C;\n",
              "      box-shadow: 0px 1px 3px 1px rgba(0, 0, 0, 0.15);\n",
              "      filter: drop-shadow(0px 1px 2px rgba(0, 0, 0, 0.3));\n",
              "      fill: #FFFFFF;\n",
              "    }\n",
              "  </style>\n",
              "\n",
              "      <script>\n",
              "        const buttonEl =\n",
              "          document.querySelector('#df-cad9fe96-ed83-458c-800e-443e6b4ee0fe button.colab-df-convert');\n",
              "        buttonEl.style.display =\n",
              "          google.colab.kernel.accessAllowed ? 'block' : 'none';\n",
              "\n",
              "        async function convertToInteractive(key) {\n",
              "          const element = document.querySelector('#df-cad9fe96-ed83-458c-800e-443e6b4ee0fe');\n",
              "          const dataTable =\n",
              "            await google.colab.kernel.invokeFunction('convertToInteractive',\n",
              "                                                     [key], {});\n",
              "          if (!dataTable) return;\n",
              "\n",
              "          const docLinkHtml = 'Like what you see? Visit the ' +\n",
              "            '<a target=\"_blank\" href=https://colab.research.google.com/notebooks/data_table.ipynb>data table notebook</a>'\n",
              "            + ' to learn more about interactive tables.';\n",
              "          element.innerHTML = '';\n",
              "          dataTable['output_type'] = 'display_data';\n",
              "          await google.colab.output.renderOutput(dataTable, element);\n",
              "          const docLink = document.createElement('div');\n",
              "          docLink.innerHTML = docLinkHtml;\n",
              "          element.appendChild(docLink);\n",
              "        }\n",
              "      </script>\n",
              "    </div>\n",
              "  </div>\n",
              "  "
            ]
          },
          "metadata": {},
          "execution_count": 16
        }
      ],
      "source": [
        "data.describe()"
      ]
    },
    {
      "cell_type": "code",
      "execution_count": 17,
      "id": "568fe311-9fde-419c-9e46-d10b5743f62f",
      "metadata": {
        "id": "568fe311-9fde-419c-9e46-d10b5743f62f",
        "colab": {
          "base_uri": "https://localhost:8080/",
          "height": 112
        },
        "outputId": "4334fa14-d812-4855-9e13-59f4d5456ed6"
      },
      "outputs": [
        {
          "output_type": "execute_result",
          "data": {
            "text/plain": [
              "    Car Make                Car Model  Year Engine Size (L) Horsepower  \\\n",
              "541  Bugatti  Chiron Super Sport 300+  2022               8       1578   \n",
              "823  Bugatti  Chiron Super Sport 300+  2021               8       1578   \n",
              "\n",
              "     Price (in USD)  \n",
              "541         5200000  \n",
              "823         5200000  "
            ],
            "text/html": [
              "\n",
              "  <div id=\"df-8b274042-71d2-4454-a824-7bc5f42ef34c\">\n",
              "    <div class=\"colab-df-container\">\n",
              "      <div>\n",
              "<style scoped>\n",
              "    .dataframe tbody tr th:only-of-type {\n",
              "        vertical-align: middle;\n",
              "    }\n",
              "\n",
              "    .dataframe tbody tr th {\n",
              "        vertical-align: top;\n",
              "    }\n",
              "\n",
              "    .dataframe thead th {\n",
              "        text-align: right;\n",
              "    }\n",
              "</style>\n",
              "<table border=\"1\" class=\"dataframe\">\n",
              "  <thead>\n",
              "    <tr style=\"text-align: right;\">\n",
              "      <th></th>\n",
              "      <th>Car Make</th>\n",
              "      <th>Car Model</th>\n",
              "      <th>Year</th>\n",
              "      <th>Engine Size (L)</th>\n",
              "      <th>Horsepower</th>\n",
              "      <th>Price (in USD)</th>\n",
              "    </tr>\n",
              "  </thead>\n",
              "  <tbody>\n",
              "    <tr>\n",
              "      <th>541</th>\n",
              "      <td>Bugatti</td>\n",
              "      <td>Chiron Super Sport 300+</td>\n",
              "      <td>2022</td>\n",
              "      <td>8</td>\n",
              "      <td>1578</td>\n",
              "      <td>5200000</td>\n",
              "    </tr>\n",
              "    <tr>\n",
              "      <th>823</th>\n",
              "      <td>Bugatti</td>\n",
              "      <td>Chiron Super Sport 300+</td>\n",
              "      <td>2021</td>\n",
              "      <td>8</td>\n",
              "      <td>1578</td>\n",
              "      <td>5200000</td>\n",
              "    </tr>\n",
              "  </tbody>\n",
              "</table>\n",
              "</div>\n",
              "      <button class=\"colab-df-convert\" onclick=\"convertToInteractive('df-8b274042-71d2-4454-a824-7bc5f42ef34c')\"\n",
              "              title=\"Convert this dataframe to an interactive table.\"\n",
              "              style=\"display:none;\">\n",
              "        \n",
              "  <svg xmlns=\"http://www.w3.org/2000/svg\" height=\"24px\"viewBox=\"0 0 24 24\"\n",
              "       width=\"24px\">\n",
              "    <path d=\"M0 0h24v24H0V0z\" fill=\"none\"/>\n",
              "    <path d=\"M18.56 5.44l.94 2.06.94-2.06 2.06-.94-2.06-.94-.94-2.06-.94 2.06-2.06.94zm-11 1L8.5 8.5l.94-2.06 2.06-.94-2.06-.94L8.5 2.5l-.94 2.06-2.06.94zm10 10l.94 2.06.94-2.06 2.06-.94-2.06-.94-.94-2.06-.94 2.06-2.06.94z\"/><path d=\"M17.41 7.96l-1.37-1.37c-.4-.4-.92-.59-1.43-.59-.52 0-1.04.2-1.43.59L10.3 9.45l-7.72 7.72c-.78.78-.78 2.05 0 2.83L4 21.41c.39.39.9.59 1.41.59.51 0 1.02-.2 1.41-.59l7.78-7.78 2.81-2.81c.8-.78.8-2.07 0-2.86zM5.41 20L4 18.59l7.72-7.72 1.47 1.35L5.41 20z\"/>\n",
              "  </svg>\n",
              "      </button>\n",
              "      \n",
              "  <style>\n",
              "    .colab-df-container {\n",
              "      display:flex;\n",
              "      flex-wrap:wrap;\n",
              "      gap: 12px;\n",
              "    }\n",
              "\n",
              "    .colab-df-convert {\n",
              "      background-color: #E8F0FE;\n",
              "      border: none;\n",
              "      border-radius: 50%;\n",
              "      cursor: pointer;\n",
              "      display: none;\n",
              "      fill: #1967D2;\n",
              "      height: 32px;\n",
              "      padding: 0 0 0 0;\n",
              "      width: 32px;\n",
              "    }\n",
              "\n",
              "    .colab-df-convert:hover {\n",
              "      background-color: #E2EBFA;\n",
              "      box-shadow: 0px 1px 2px rgba(60, 64, 67, 0.3), 0px 1px 3px 1px rgba(60, 64, 67, 0.15);\n",
              "      fill: #174EA6;\n",
              "    }\n",
              "\n",
              "    [theme=dark] .colab-df-convert {\n",
              "      background-color: #3B4455;\n",
              "      fill: #D2E3FC;\n",
              "    }\n",
              "\n",
              "    [theme=dark] .colab-df-convert:hover {\n",
              "      background-color: #434B5C;\n",
              "      box-shadow: 0px 1px 3px 1px rgba(0, 0, 0, 0.15);\n",
              "      filter: drop-shadow(0px 1px 2px rgba(0, 0, 0, 0.3));\n",
              "      fill: #FFFFFF;\n",
              "    }\n",
              "  </style>\n",
              "\n",
              "      <script>\n",
              "        const buttonEl =\n",
              "          document.querySelector('#df-8b274042-71d2-4454-a824-7bc5f42ef34c button.colab-df-convert');\n",
              "        buttonEl.style.display =\n",
              "          google.colab.kernel.accessAllowed ? 'block' : 'none';\n",
              "\n",
              "        async function convertToInteractive(key) {\n",
              "          const element = document.querySelector('#df-8b274042-71d2-4454-a824-7bc5f42ef34c');\n",
              "          const dataTable =\n",
              "            await google.colab.kernel.invokeFunction('convertToInteractive',\n",
              "                                                     [key], {});\n",
              "          if (!dataTable) return;\n",
              "\n",
              "          const docLinkHtml = 'Like what you see? Visit the ' +\n",
              "            '<a target=\"_blank\" href=https://colab.research.google.com/notebooks/data_table.ipynb>data table notebook</a>'\n",
              "            + ' to learn more about interactive tables.';\n",
              "          element.innerHTML = '';\n",
              "          dataTable['output_type'] = 'display_data';\n",
              "          await google.colab.output.renderOutput(dataTable, element);\n",
              "          const docLink = document.createElement('div');\n",
              "          docLink.innerHTML = docLinkHtml;\n",
              "          element.appendChild(docLink);\n",
              "        }\n",
              "      </script>\n",
              "    </div>\n",
              "  </div>\n",
              "  "
            ]
          },
          "metadata": {},
          "execution_count": 17
        }
      ],
      "source": [
        "data[data['Price (in USD)']>5e6]"
      ]
    },
    {
      "cell_type": "code",
      "execution_count": 18,
      "id": "82ca7f97-5ef0-47e8-8757-42a5e799c3d5",
      "metadata": {
        "id": "82ca7f97-5ef0-47e8-8757-42a5e799c3d5"
      },
      "outputs": [],
      "source": [
        "data = data[data['Price (in USD)']<5e6].reset_index(drop=True)"
      ]
    },
    {
      "cell_type": "code",
      "execution_count": 19,
      "id": "b00e9e6a-7dd8-43a8-b77b-93545522d3e3",
      "metadata": {
        "id": "b00e9e6a-7dd8-43a8-b77b-93545522d3e3",
        "colab": {
          "base_uri": "https://localhost:8080/"
        },
        "outputId": "5c8f726c-da21-40dc-b6a8-51f03151ea68"
      },
      "outputs": [
        {
          "output_type": "stream",
          "name": "stdout",
          "text": [
            "<class 'pandas.core.frame.DataFrame'>\n",
            "RangeIndex: 1005 entries, 0 to 1004\n",
            "Data columns (total 6 columns):\n",
            " #   Column           Non-Null Count  Dtype \n",
            "---  ------           --------------  ----- \n",
            " 0   Car Make         1005 non-null   object\n",
            " 1   Car Model        1005 non-null   object\n",
            " 2   Year             1005 non-null   int64 \n",
            " 3   Engine Size (L)  995 non-null    object\n",
            " 4   Horsepower       1005 non-null   object\n",
            " 5   Price (in USD)   1005 non-null   int64 \n",
            "dtypes: int64(2), object(4)\n",
            "memory usage: 47.2+ KB\n"
          ]
        }
      ],
      "source": [
        "data.info()"
      ]
    },
    {
      "cell_type": "code",
      "execution_count": 20,
      "id": "0d4bf17b-8883-431a-b327-716e4224a769",
      "metadata": {
        "id": "0d4bf17b-8883-431a-b327-716e4224a769"
      },
      "outputs": [],
      "source": [
        " data = data[~data['Horsepower'].isna()]"
      ]
    },
    {
      "cell_type": "code",
      "execution_count": 21,
      "id": "8e560b17-f02a-4803-951b-9422b4a222ad",
      "metadata": {
        "id": "8e560b17-f02a-4803-951b-9422b4a222ad"
      },
      "outputs": [],
      "source": [
        "x=data.drop(columns='Price (in USD)',axis=1)\n",
        "y=data['Price (in USD)']"
      ]
    },
    {
      "cell_type": "code",
      "execution_count": 22,
      "id": "920d7eb6-843b-4a9a-9209-2ef093c93fc9",
      "metadata": {
        "id": "920d7eb6-843b-4a9a-9209-2ef093c93fc9"
      },
      "outputs": [],
      "source": [
        "x_train,x_test,y_train,y_test=train_test_split(x,y,test_size = 0.2)"
      ]
    },
    {
      "cell_type": "code",
      "execution_count": 23,
      "id": "36569105-0eb1-4f86-9f87-614954049722",
      "metadata": {
        "id": "36569105-0eb1-4f86-9f87-614954049722"
      },
      "outputs": [],
      "source": [
        "ohe = OneHotEncoder()"
      ]
    },
    {
      "cell_type": "code",
      "execution_count": 26,
      "id": "2dde0b69-0dea-4fa0-ac1c-25830c2bb1ad",
      "metadata": {
        "id": "2dde0b69-0dea-4fa0-ac1c-25830c2bb1ad",
        "outputId": "7ce791a5-48f9-4928-b066-877c2ca9554d",
        "colab": {
          "base_uri": "https://localhost:8080/",
          "height": 36
        }
      },
      "outputs": [
        {
          "output_type": "execute_result",
          "data": {
            "text/plain": [
              "'auto'"
            ],
            "application/vnd.google.colaboratory.intrinsic+json": {
              "type": "string"
            }
          },
          "metadata": {},
          "execution_count": 26
        }
      ],
      "source": [
        "ohe.categories"
      ]
    },
    {
      "cell_type": "code",
      "execution_count": 27,
      "id": "b2fd63f1-c12d-484a-a9e0-123dc320b91b",
      "metadata": {
        "id": "b2fd63f1-c12d-484a-a9e0-123dc320b91b",
        "outputId": "32f1f282-2745-4ae6-fb64-113b826ff19e",
        "colab": {
          "base_uri": "https://localhost:8080/",
          "height": 74
        }
      },
      "outputs": [
        {
          "output_type": "execute_result",
          "data": {
            "text/plain": [
              "OneHotEncoder()"
            ],
            "text/html": [
              "<style>#sk-container-id-1 {color: black;background-color: white;}#sk-container-id-1 pre{padding: 0;}#sk-container-id-1 div.sk-toggleable {background-color: white;}#sk-container-id-1 label.sk-toggleable__label {cursor: pointer;display: block;width: 100%;margin-bottom: 0;padding: 0.3em;box-sizing: border-box;text-align: center;}#sk-container-id-1 label.sk-toggleable__label-arrow:before {content: \"▸\";float: left;margin-right: 0.25em;color: #696969;}#sk-container-id-1 label.sk-toggleable__label-arrow:hover:before {color: black;}#sk-container-id-1 div.sk-estimator:hover label.sk-toggleable__label-arrow:before {color: black;}#sk-container-id-1 div.sk-toggleable__content {max-height: 0;max-width: 0;overflow: hidden;text-align: left;background-color: #f0f8ff;}#sk-container-id-1 div.sk-toggleable__content pre {margin: 0.2em;color: black;border-radius: 0.25em;background-color: #f0f8ff;}#sk-container-id-1 input.sk-toggleable__control:checked~div.sk-toggleable__content {max-height: 200px;max-width: 100%;overflow: auto;}#sk-container-id-1 input.sk-toggleable__control:checked~label.sk-toggleable__label-arrow:before {content: \"▾\";}#sk-container-id-1 div.sk-estimator input.sk-toggleable__control:checked~label.sk-toggleable__label {background-color: #d4ebff;}#sk-container-id-1 div.sk-label input.sk-toggleable__control:checked~label.sk-toggleable__label {background-color: #d4ebff;}#sk-container-id-1 input.sk-hidden--visually {border: 0;clip: rect(1px 1px 1px 1px);clip: rect(1px, 1px, 1px, 1px);height: 1px;margin: -1px;overflow: hidden;padding: 0;position: absolute;width: 1px;}#sk-container-id-1 div.sk-estimator {font-family: monospace;background-color: #f0f8ff;border: 1px dotted black;border-radius: 0.25em;box-sizing: border-box;margin-bottom: 0.5em;}#sk-container-id-1 div.sk-estimator:hover {background-color: #d4ebff;}#sk-container-id-1 div.sk-parallel-item::after {content: \"\";width: 100%;border-bottom: 1px solid gray;flex-grow: 1;}#sk-container-id-1 div.sk-label:hover label.sk-toggleable__label {background-color: #d4ebff;}#sk-container-id-1 div.sk-serial::before {content: \"\";position: absolute;border-left: 1px solid gray;box-sizing: border-box;top: 0;bottom: 0;left: 50%;z-index: 0;}#sk-container-id-1 div.sk-serial {display: flex;flex-direction: column;align-items: center;background-color: white;padding-right: 0.2em;padding-left: 0.2em;position: relative;}#sk-container-id-1 div.sk-item {position: relative;z-index: 1;}#sk-container-id-1 div.sk-parallel {display: flex;align-items: stretch;justify-content: center;background-color: white;position: relative;}#sk-container-id-1 div.sk-item::before, #sk-container-id-1 div.sk-parallel-item::before {content: \"\";position: absolute;border-left: 1px solid gray;box-sizing: border-box;top: 0;bottom: 0;left: 50%;z-index: -1;}#sk-container-id-1 div.sk-parallel-item {display: flex;flex-direction: column;z-index: 1;position: relative;background-color: white;}#sk-container-id-1 div.sk-parallel-item:first-child::after {align-self: flex-end;width: 50%;}#sk-container-id-1 div.sk-parallel-item:last-child::after {align-self: flex-start;width: 50%;}#sk-container-id-1 div.sk-parallel-item:only-child::after {width: 0;}#sk-container-id-1 div.sk-dashed-wrapped {border: 1px dashed gray;margin: 0 0.4em 0.5em 0.4em;box-sizing: border-box;padding-bottom: 0.4em;background-color: white;}#sk-container-id-1 div.sk-label label {font-family: monospace;font-weight: bold;display: inline-block;line-height: 1.2em;}#sk-container-id-1 div.sk-label-container {text-align: center;}#sk-container-id-1 div.sk-container {/* jupyter's `normalize.less` sets `[hidden] { display: none; }` but bootstrap.min.css set `[hidden] { display: none !important; }` so we also need the `!important` here to be able to override the default hidden behavior on the sphinx rendered scikit-learn.org. See: https://github.com/scikit-learn/scikit-learn/issues/21755 */display: inline-block !important;position: relative;}#sk-container-id-1 div.sk-text-repr-fallback {display: none;}</style><div id=\"sk-container-id-1\" class=\"sk-top-container\"><div class=\"sk-text-repr-fallback\"><pre>OneHotEncoder()</pre><b>In a Jupyter environment, please rerun this cell to show the HTML representation or trust the notebook. <br />On GitHub, the HTML representation is unable to render, please try loading this page with nbviewer.org.</b></div><div class=\"sk-container\" hidden><div class=\"sk-item\"><div class=\"sk-estimator sk-toggleable\"><input class=\"sk-toggleable__control sk-hidden--visually\" id=\"sk-estimator-id-1\" type=\"checkbox\" checked><label for=\"sk-estimator-id-1\" class=\"sk-toggleable__label sk-toggleable__label-arrow\">OneHotEncoder</label><div class=\"sk-toggleable__content\"><pre>OneHotEncoder()</pre></div></div></div></div></div>"
            ]
          },
          "metadata": {},
          "execution_count": 27
        }
      ],
      "source": [
        "ohe.fit(x[['Car Make','Car Model','Engine Size (L)','Horsepower']])"
      ]
    },
    {
      "cell_type": "code",
      "execution_count": 28,
      "id": "c6ba364a-6ac0-4652-b652-834cedc4894f",
      "metadata": {
        "id": "c6ba364a-6ac0-4652-b652-834cedc4894f"
      },
      "outputs": [],
      "source": [
        "column_trans = make_column_transformer((OneHotEncoder(categories = ohe.categories_),['Car Make','Car Model','Engine Size (L)','Horsepower']),remainder='passthrough')"
      ]
    },
    {
      "cell_type": "code",
      "execution_count": 29,
      "id": "5ea7950c-ba4e-4db1-ab62-734b21a16695",
      "metadata": {
        "id": "5ea7950c-ba4e-4db1-ab62-734b21a16695"
      },
      "outputs": [],
      "source": [
        "lr = LinearRegression()"
      ]
    },
    {
      "cell_type": "code",
      "execution_count": 30,
      "id": "fcbc25ec-e183-427c-85e4-b164766919c6",
      "metadata": {
        "id": "fcbc25ec-e183-427c-85e4-b164766919c6"
      },
      "outputs": [],
      "source": [
        "pipe=make_pipeline(column_trans,lr)"
      ]
    },
    {
      "cell_type": "code",
      "execution_count": 31,
      "id": "b045c60f-199f-4242-83bb-5960f6deea48",
      "metadata": {
        "id": "b045c60f-199f-4242-83bb-5960f6deea48",
        "outputId": "991ea084-63fc-49a0-e288-af7b32a1d66d",
        "colab": {
          "base_uri": "https://localhost:8080/",
          "height": 191
        }
      },
      "outputs": [
        {
          "output_type": "execute_result",
          "data": {
            "text/plain": [
              "Pipeline(steps=[('columntransformer',\n",
              "                 ColumnTransformer(remainder='passthrough',\n",
              "                                   transformers=[('onehotencoder',\n",
              "                                                  OneHotEncoder(categories=[array(['Acura', 'Alfa Romeo', 'Alpine', 'Ariel', 'Aston Martin', 'Audi',\n",
              "       'BMW', 'Bentley', 'Bugatti', 'Chevrolet', 'Dodge', 'Ferrari',\n",
              "       'Ford', 'Jaguar', 'Kia', 'Koenigsegg', 'Lamborghini', 'Lexus',\n",
              "       'Lotus', 'Maserati', 'Mazda', 'McLaren'...\n",
              "       '591', '592', '600', '603', '611', '612', '616', '617', '620',\n",
              "       '621', '622', '624', '625', '626', '630', '640', '641', '645',\n",
              "       '647', '650', '660', '661', '671', '689', '690', '707', '710',\n",
              "       '715', '717', '720', '729', '730', '750', '755', '759', '760',\n",
              "       '764', '770', '780', '789', '791', '797', '800', '819', '887',\n",
              "       '986'], dtype=object)]),\n",
              "                                                  ['Car Make', 'Car Model',\n",
              "                                                   'Engine Size (L)',\n",
              "                                                   'Horsepower'])])),\n",
              "                ('linearregression', LinearRegression())])"
            ],
            "text/html": [
              "<style>#sk-container-id-2 {color: black;background-color: white;}#sk-container-id-2 pre{padding: 0;}#sk-container-id-2 div.sk-toggleable {background-color: white;}#sk-container-id-2 label.sk-toggleable__label {cursor: pointer;display: block;width: 100%;margin-bottom: 0;padding: 0.3em;box-sizing: border-box;text-align: center;}#sk-container-id-2 label.sk-toggleable__label-arrow:before {content: \"▸\";float: left;margin-right: 0.25em;color: #696969;}#sk-container-id-2 label.sk-toggleable__label-arrow:hover:before {color: black;}#sk-container-id-2 div.sk-estimator:hover label.sk-toggleable__label-arrow:before {color: black;}#sk-container-id-2 div.sk-toggleable__content {max-height: 0;max-width: 0;overflow: hidden;text-align: left;background-color: #f0f8ff;}#sk-container-id-2 div.sk-toggleable__content pre {margin: 0.2em;color: black;border-radius: 0.25em;background-color: #f0f8ff;}#sk-container-id-2 input.sk-toggleable__control:checked~div.sk-toggleable__content {max-height: 200px;max-width: 100%;overflow: auto;}#sk-container-id-2 input.sk-toggleable__control:checked~label.sk-toggleable__label-arrow:before {content: \"▾\";}#sk-container-id-2 div.sk-estimator input.sk-toggleable__control:checked~label.sk-toggleable__label {background-color: #d4ebff;}#sk-container-id-2 div.sk-label input.sk-toggleable__control:checked~label.sk-toggleable__label {background-color: #d4ebff;}#sk-container-id-2 input.sk-hidden--visually {border: 0;clip: rect(1px 1px 1px 1px);clip: rect(1px, 1px, 1px, 1px);height: 1px;margin: -1px;overflow: hidden;padding: 0;position: absolute;width: 1px;}#sk-container-id-2 div.sk-estimator {font-family: monospace;background-color: #f0f8ff;border: 1px dotted black;border-radius: 0.25em;box-sizing: border-box;margin-bottom: 0.5em;}#sk-container-id-2 div.sk-estimator:hover {background-color: #d4ebff;}#sk-container-id-2 div.sk-parallel-item::after {content: \"\";width: 100%;border-bottom: 1px solid gray;flex-grow: 1;}#sk-container-id-2 div.sk-label:hover label.sk-toggleable__label {background-color: #d4ebff;}#sk-container-id-2 div.sk-serial::before {content: \"\";position: absolute;border-left: 1px solid gray;box-sizing: border-box;top: 0;bottom: 0;left: 50%;z-index: 0;}#sk-container-id-2 div.sk-serial {display: flex;flex-direction: column;align-items: center;background-color: white;padding-right: 0.2em;padding-left: 0.2em;position: relative;}#sk-container-id-2 div.sk-item {position: relative;z-index: 1;}#sk-container-id-2 div.sk-parallel {display: flex;align-items: stretch;justify-content: center;background-color: white;position: relative;}#sk-container-id-2 div.sk-item::before, #sk-container-id-2 div.sk-parallel-item::before {content: \"\";position: absolute;border-left: 1px solid gray;box-sizing: border-box;top: 0;bottom: 0;left: 50%;z-index: -1;}#sk-container-id-2 div.sk-parallel-item {display: flex;flex-direction: column;z-index: 1;position: relative;background-color: white;}#sk-container-id-2 div.sk-parallel-item:first-child::after {align-self: flex-end;width: 50%;}#sk-container-id-2 div.sk-parallel-item:last-child::after {align-self: flex-start;width: 50%;}#sk-container-id-2 div.sk-parallel-item:only-child::after {width: 0;}#sk-container-id-2 div.sk-dashed-wrapped {border: 1px dashed gray;margin: 0 0.4em 0.5em 0.4em;box-sizing: border-box;padding-bottom: 0.4em;background-color: white;}#sk-container-id-2 div.sk-label label {font-family: monospace;font-weight: bold;display: inline-block;line-height: 1.2em;}#sk-container-id-2 div.sk-label-container {text-align: center;}#sk-container-id-2 div.sk-container {/* jupyter's `normalize.less` sets `[hidden] { display: none; }` but bootstrap.min.css set `[hidden] { display: none !important; }` so we also need the `!important` here to be able to override the default hidden behavior on the sphinx rendered scikit-learn.org. See: https://github.com/scikit-learn/scikit-learn/issues/21755 */display: inline-block !important;position: relative;}#sk-container-id-2 div.sk-text-repr-fallback {display: none;}</style><div id=\"sk-container-id-2\" class=\"sk-top-container\"><div class=\"sk-text-repr-fallback\"><pre>Pipeline(steps=[(&#x27;columntransformer&#x27;,\n",
              "                 ColumnTransformer(remainder=&#x27;passthrough&#x27;,\n",
              "                                   transformers=[(&#x27;onehotencoder&#x27;,\n",
              "                                                  OneHotEncoder(categories=[array([&#x27;Acura&#x27;, &#x27;Alfa Romeo&#x27;, &#x27;Alpine&#x27;, &#x27;Ariel&#x27;, &#x27;Aston Martin&#x27;, &#x27;Audi&#x27;,\n",
              "       &#x27;BMW&#x27;, &#x27;Bentley&#x27;, &#x27;Bugatti&#x27;, &#x27;Chevrolet&#x27;, &#x27;Dodge&#x27;, &#x27;Ferrari&#x27;,\n",
              "       &#x27;Ford&#x27;, &#x27;Jaguar&#x27;, &#x27;Kia&#x27;, &#x27;Koenigsegg&#x27;, &#x27;Lamborghini&#x27;, &#x27;Lexus&#x27;,\n",
              "       &#x27;Lotus&#x27;, &#x27;Maserati&#x27;, &#x27;Mazda&#x27;, &#x27;McLaren&#x27;...\n",
              "       &#x27;591&#x27;, &#x27;592&#x27;, &#x27;600&#x27;, &#x27;603&#x27;, &#x27;611&#x27;, &#x27;612&#x27;, &#x27;616&#x27;, &#x27;617&#x27;, &#x27;620&#x27;,\n",
              "       &#x27;621&#x27;, &#x27;622&#x27;, &#x27;624&#x27;, &#x27;625&#x27;, &#x27;626&#x27;, &#x27;630&#x27;, &#x27;640&#x27;, &#x27;641&#x27;, &#x27;645&#x27;,\n",
              "       &#x27;647&#x27;, &#x27;650&#x27;, &#x27;660&#x27;, &#x27;661&#x27;, &#x27;671&#x27;, &#x27;689&#x27;, &#x27;690&#x27;, &#x27;707&#x27;, &#x27;710&#x27;,\n",
              "       &#x27;715&#x27;, &#x27;717&#x27;, &#x27;720&#x27;, &#x27;729&#x27;, &#x27;730&#x27;, &#x27;750&#x27;, &#x27;755&#x27;, &#x27;759&#x27;, &#x27;760&#x27;,\n",
              "       &#x27;764&#x27;, &#x27;770&#x27;, &#x27;780&#x27;, &#x27;789&#x27;, &#x27;791&#x27;, &#x27;797&#x27;, &#x27;800&#x27;, &#x27;819&#x27;, &#x27;887&#x27;,\n",
              "       &#x27;986&#x27;], dtype=object)]),\n",
              "                                                  [&#x27;Car Make&#x27;, &#x27;Car Model&#x27;,\n",
              "                                                   &#x27;Engine Size (L)&#x27;,\n",
              "                                                   &#x27;Horsepower&#x27;])])),\n",
              "                (&#x27;linearregression&#x27;, LinearRegression())])</pre><b>In a Jupyter environment, please rerun this cell to show the HTML representation or trust the notebook. <br />On GitHub, the HTML representation is unable to render, please try loading this page with nbviewer.org.</b></div><div class=\"sk-container\" hidden><div class=\"sk-item sk-dashed-wrapped\"><div class=\"sk-label-container\"><div class=\"sk-label sk-toggleable\"><input class=\"sk-toggleable__control sk-hidden--visually\" id=\"sk-estimator-id-2\" type=\"checkbox\" ><label for=\"sk-estimator-id-2\" class=\"sk-toggleable__label sk-toggleable__label-arrow\">Pipeline</label><div class=\"sk-toggleable__content\"><pre>Pipeline(steps=[(&#x27;columntransformer&#x27;,\n",
              "                 ColumnTransformer(remainder=&#x27;passthrough&#x27;,\n",
              "                                   transformers=[(&#x27;onehotencoder&#x27;,\n",
              "                                                  OneHotEncoder(categories=[array([&#x27;Acura&#x27;, &#x27;Alfa Romeo&#x27;, &#x27;Alpine&#x27;, &#x27;Ariel&#x27;, &#x27;Aston Martin&#x27;, &#x27;Audi&#x27;,\n",
              "       &#x27;BMW&#x27;, &#x27;Bentley&#x27;, &#x27;Bugatti&#x27;, &#x27;Chevrolet&#x27;, &#x27;Dodge&#x27;, &#x27;Ferrari&#x27;,\n",
              "       &#x27;Ford&#x27;, &#x27;Jaguar&#x27;, &#x27;Kia&#x27;, &#x27;Koenigsegg&#x27;, &#x27;Lamborghini&#x27;, &#x27;Lexus&#x27;,\n",
              "       &#x27;Lotus&#x27;, &#x27;Maserati&#x27;, &#x27;Mazda&#x27;, &#x27;McLaren&#x27;...\n",
              "       &#x27;591&#x27;, &#x27;592&#x27;, &#x27;600&#x27;, &#x27;603&#x27;, &#x27;611&#x27;, &#x27;612&#x27;, &#x27;616&#x27;, &#x27;617&#x27;, &#x27;620&#x27;,\n",
              "       &#x27;621&#x27;, &#x27;622&#x27;, &#x27;624&#x27;, &#x27;625&#x27;, &#x27;626&#x27;, &#x27;630&#x27;, &#x27;640&#x27;, &#x27;641&#x27;, &#x27;645&#x27;,\n",
              "       &#x27;647&#x27;, &#x27;650&#x27;, &#x27;660&#x27;, &#x27;661&#x27;, &#x27;671&#x27;, &#x27;689&#x27;, &#x27;690&#x27;, &#x27;707&#x27;, &#x27;710&#x27;,\n",
              "       &#x27;715&#x27;, &#x27;717&#x27;, &#x27;720&#x27;, &#x27;729&#x27;, &#x27;730&#x27;, &#x27;750&#x27;, &#x27;755&#x27;, &#x27;759&#x27;, &#x27;760&#x27;,\n",
              "       &#x27;764&#x27;, &#x27;770&#x27;, &#x27;780&#x27;, &#x27;789&#x27;, &#x27;791&#x27;, &#x27;797&#x27;, &#x27;800&#x27;, &#x27;819&#x27;, &#x27;887&#x27;,\n",
              "       &#x27;986&#x27;], dtype=object)]),\n",
              "                                                  [&#x27;Car Make&#x27;, &#x27;Car Model&#x27;,\n",
              "                                                   &#x27;Engine Size (L)&#x27;,\n",
              "                                                   &#x27;Horsepower&#x27;])])),\n",
              "                (&#x27;linearregression&#x27;, LinearRegression())])</pre></div></div></div><div class=\"sk-serial\"><div class=\"sk-item sk-dashed-wrapped\"><div class=\"sk-label-container\"><div class=\"sk-label sk-toggleable\"><input class=\"sk-toggleable__control sk-hidden--visually\" id=\"sk-estimator-id-3\" type=\"checkbox\" ><label for=\"sk-estimator-id-3\" class=\"sk-toggleable__label sk-toggleable__label-arrow\">columntransformer: ColumnTransformer</label><div class=\"sk-toggleable__content\"><pre>ColumnTransformer(remainder=&#x27;passthrough&#x27;,\n",
              "                  transformers=[(&#x27;onehotencoder&#x27;,\n",
              "                                 OneHotEncoder(categories=[array([&#x27;Acura&#x27;, &#x27;Alfa Romeo&#x27;, &#x27;Alpine&#x27;, &#x27;Ariel&#x27;, &#x27;Aston Martin&#x27;, &#x27;Audi&#x27;,\n",
              "       &#x27;BMW&#x27;, &#x27;Bentley&#x27;, &#x27;Bugatti&#x27;, &#x27;Chevrolet&#x27;, &#x27;Dodge&#x27;, &#x27;Ferrari&#x27;,\n",
              "       &#x27;Ford&#x27;, &#x27;Jaguar&#x27;, &#x27;Kia&#x27;, &#x27;Koenigsegg&#x27;, &#x27;Lamborghini&#x27;, &#x27;Lexus&#x27;,\n",
              "       &#x27;Lotus&#x27;, &#x27;Maserati&#x27;, &#x27;Mazda&#x27;, &#x27;McLaren&#x27;, &#x27;Mercedes-AMG&#x27;,\n",
              "       &#x27;Mercedes-Benz&#x27;, &#x27;Niss...\n",
              "       &#x27;523&#x27;, &#x27;542&#x27;, &#x27;550&#x27;, &#x27;562&#x27;, &#x27;563&#x27;, &#x27;573&#x27;, &#x27;575&#x27;, &#x27;577&#x27;, &#x27;583&#x27;,\n",
              "       &#x27;591&#x27;, &#x27;592&#x27;, &#x27;600&#x27;, &#x27;603&#x27;, &#x27;611&#x27;, &#x27;612&#x27;, &#x27;616&#x27;, &#x27;617&#x27;, &#x27;620&#x27;,\n",
              "       &#x27;621&#x27;, &#x27;622&#x27;, &#x27;624&#x27;, &#x27;625&#x27;, &#x27;626&#x27;, &#x27;630&#x27;, &#x27;640&#x27;, &#x27;641&#x27;, &#x27;645&#x27;,\n",
              "       &#x27;647&#x27;, &#x27;650&#x27;, &#x27;660&#x27;, &#x27;661&#x27;, &#x27;671&#x27;, &#x27;689&#x27;, &#x27;690&#x27;, &#x27;707&#x27;, &#x27;710&#x27;,\n",
              "       &#x27;715&#x27;, &#x27;717&#x27;, &#x27;720&#x27;, &#x27;729&#x27;, &#x27;730&#x27;, &#x27;750&#x27;, &#x27;755&#x27;, &#x27;759&#x27;, &#x27;760&#x27;,\n",
              "       &#x27;764&#x27;, &#x27;770&#x27;, &#x27;780&#x27;, &#x27;789&#x27;, &#x27;791&#x27;, &#x27;797&#x27;, &#x27;800&#x27;, &#x27;819&#x27;, &#x27;887&#x27;,\n",
              "       &#x27;986&#x27;], dtype=object)]),\n",
              "                                 [&#x27;Car Make&#x27;, &#x27;Car Model&#x27;, &#x27;Engine Size (L)&#x27;,\n",
              "                                  &#x27;Horsepower&#x27;])])</pre></div></div></div><div class=\"sk-parallel\"><div class=\"sk-parallel-item\"><div class=\"sk-item\"><div class=\"sk-label-container\"><div class=\"sk-label sk-toggleable\"><input class=\"sk-toggleable__control sk-hidden--visually\" id=\"sk-estimator-id-4\" type=\"checkbox\" ><label for=\"sk-estimator-id-4\" class=\"sk-toggleable__label sk-toggleable__label-arrow\">onehotencoder</label><div class=\"sk-toggleable__content\"><pre>[&#x27;Car Make&#x27;, &#x27;Car Model&#x27;, &#x27;Engine Size (L)&#x27;, &#x27;Horsepower&#x27;]</pre></div></div></div><div class=\"sk-serial\"><div class=\"sk-item\"><div class=\"sk-estimator sk-toggleable\"><input class=\"sk-toggleable__control sk-hidden--visually\" id=\"sk-estimator-id-5\" type=\"checkbox\" ><label for=\"sk-estimator-id-5\" class=\"sk-toggleable__label sk-toggleable__label-arrow\">OneHotEncoder</label><div class=\"sk-toggleable__content\"><pre>OneHotEncoder(categories=[array([&#x27;Acura&#x27;, &#x27;Alfa Romeo&#x27;, &#x27;Alpine&#x27;, &#x27;Ariel&#x27;, &#x27;Aston Martin&#x27;, &#x27;Audi&#x27;,\n",
              "       &#x27;BMW&#x27;, &#x27;Bentley&#x27;, &#x27;Bugatti&#x27;, &#x27;Chevrolet&#x27;, &#x27;Dodge&#x27;, &#x27;Ferrari&#x27;,\n",
              "       &#x27;Ford&#x27;, &#x27;Jaguar&#x27;, &#x27;Kia&#x27;, &#x27;Koenigsegg&#x27;, &#x27;Lamborghini&#x27;, &#x27;Lexus&#x27;,\n",
              "       &#x27;Lotus&#x27;, &#x27;Maserati&#x27;, &#x27;Mazda&#x27;, &#x27;McLaren&#x27;, &#x27;Mercedes-AMG&#x27;,\n",
              "       &#x27;Mercedes-Benz&#x27;, &#x27;Nissan&#x27;, &#x27;Pagani&#x27;, &#x27;Pininfarina&#x27;, &#x27;Polestar&#x27;,\n",
              "       &#x27;Porsche&#x27;, &#x27;Rimac&#x27;, &#x27;Rolls-Royce&#x27;, &#x27;Sh...\n",
              "       &#x27;473&#x27;, &#x27;480&#x27;, &#x27;482&#x27;, &#x27;485&#x27;, &#x27;490&#x27;, &#x27;495&#x27;, &#x27;500&#x27;, &#x27;503&#x27;, &#x27;505&#x27;,\n",
              "       &#x27;523&#x27;, &#x27;542&#x27;, &#x27;550&#x27;, &#x27;562&#x27;, &#x27;563&#x27;, &#x27;573&#x27;, &#x27;575&#x27;, &#x27;577&#x27;, &#x27;583&#x27;,\n",
              "       &#x27;591&#x27;, &#x27;592&#x27;, &#x27;600&#x27;, &#x27;603&#x27;, &#x27;611&#x27;, &#x27;612&#x27;, &#x27;616&#x27;, &#x27;617&#x27;, &#x27;620&#x27;,\n",
              "       &#x27;621&#x27;, &#x27;622&#x27;, &#x27;624&#x27;, &#x27;625&#x27;, &#x27;626&#x27;, &#x27;630&#x27;, &#x27;640&#x27;, &#x27;641&#x27;, &#x27;645&#x27;,\n",
              "       &#x27;647&#x27;, &#x27;650&#x27;, &#x27;660&#x27;, &#x27;661&#x27;, &#x27;671&#x27;, &#x27;689&#x27;, &#x27;690&#x27;, &#x27;707&#x27;, &#x27;710&#x27;,\n",
              "       &#x27;715&#x27;, &#x27;717&#x27;, &#x27;720&#x27;, &#x27;729&#x27;, &#x27;730&#x27;, &#x27;750&#x27;, &#x27;755&#x27;, &#x27;759&#x27;, &#x27;760&#x27;,\n",
              "       &#x27;764&#x27;, &#x27;770&#x27;, &#x27;780&#x27;, &#x27;789&#x27;, &#x27;791&#x27;, &#x27;797&#x27;, &#x27;800&#x27;, &#x27;819&#x27;, &#x27;887&#x27;,\n",
              "       &#x27;986&#x27;], dtype=object)])</pre></div></div></div></div></div></div><div class=\"sk-parallel-item\"><div class=\"sk-item\"><div class=\"sk-label-container\"><div class=\"sk-label sk-toggleable\"><input class=\"sk-toggleable__control sk-hidden--visually\" id=\"sk-estimator-id-6\" type=\"checkbox\" ><label for=\"sk-estimator-id-6\" class=\"sk-toggleable__label sk-toggleable__label-arrow\">remainder</label><div class=\"sk-toggleable__content\"><pre>[&#x27;Year&#x27;]</pre></div></div></div><div class=\"sk-serial\"><div class=\"sk-item\"><div class=\"sk-estimator sk-toggleable\"><input class=\"sk-toggleable__control sk-hidden--visually\" id=\"sk-estimator-id-7\" type=\"checkbox\" ><label for=\"sk-estimator-id-7\" class=\"sk-toggleable__label sk-toggleable__label-arrow\">passthrough</label><div class=\"sk-toggleable__content\"><pre>passthrough</pre></div></div></div></div></div></div></div></div><div class=\"sk-item\"><div class=\"sk-estimator sk-toggleable\"><input class=\"sk-toggleable__control sk-hidden--visually\" id=\"sk-estimator-id-8\" type=\"checkbox\" ><label for=\"sk-estimator-id-8\" class=\"sk-toggleable__label sk-toggleable__label-arrow\">LinearRegression</label><div class=\"sk-toggleable__content\"><pre>LinearRegression()</pre></div></div></div></div></div></div></div>"
            ]
          },
          "metadata": {},
          "execution_count": 31
        }
      ],
      "source": [
        "pipe.fit(x_train,y_train)"
      ]
    },
    {
      "cell_type": "code",
      "execution_count": 32,
      "id": "e360cfc3-c461-4b8a-9b37-14c0f3193780",
      "metadata": {
        "id": "e360cfc3-c461-4b8a-9b37-14c0f3193780"
      },
      "outputs": [],
      "source": [
        "y_pred = pipe.predict(x_test)"
      ]
    },
    {
      "cell_type": "code",
      "execution_count": 34,
      "id": "f7c61d56-8f81-4e8c-9400-da06fc3c0685",
      "metadata": {
        "id": "f7c61d56-8f81-4e8c-9400-da06fc3c0685",
        "outputId": "10650866-e974-4151-db8a-cd4ad88865c5",
        "colab": {
          "base_uri": "https://localhost:8080/"
        }
      },
      "outputs": [
        {
          "output_type": "execute_result",
          "data": {
            "text/plain": [
              "0.8614676549358974"
            ]
          },
          "metadata": {},
          "execution_count": 34
        }
      ],
      "source": [
        "r2_score(y_test,y_pred)"
      ]
    },
    {
      "cell_type": "code",
      "execution_count": 35,
      "id": "e70f8882-14fb-4114-98cf-c44a5449c0db",
      "metadata": {
        "id": "e70f8882-14fb-4114-98cf-c44a5449c0db"
      },
      "outputs": [],
      "source": [
        "scores=[]\n",
        "for i in range(10):\n",
        "    x_train,x_test,y_train,y_test = train_test_split(x,y,test_size = 0.2,random_state = i)\n",
        "    lr = LinearRegression()\n",
        "    pipe = make_pipeline(column_trans,lr)\n",
        "    pipe.fit(x_train,y_train)\n",
        "    y_pred = pipe.predict(x_test)\n",
        "    scores.append(r2_score(y_test,y_pred))"
      ]
    },
    {
      "cell_type": "code",
      "execution_count": 36,
      "id": "771f2b11-b7d2-4a1f-8edd-4b75bfbf54a6",
      "metadata": {
        "id": "771f2b11-b7d2-4a1f-8edd-4b75bfbf54a6",
        "outputId": "58bf63da-8d88-4a6d-a15c-30f06eac4f2e",
        "colab": {
          "base_uri": "https://localhost:8080/"
        }
      },
      "outputs": [
        {
          "output_type": "stream",
          "name": "stdout",
          "text": [
            "0.9128367394212257 9\n"
          ]
        }
      ],
      "source": [
        "print(r2_score(y_test,y_pred),i)"
      ]
    },
    {
      "cell_type": "code",
      "execution_count": 37,
      "id": "c4c4713d-538b-4907-b25b-bf94e24638ce",
      "metadata": {
        "id": "c4c4713d-538b-4907-b25b-bf94e24638ce",
        "outputId": "cdc6c1bc-b417-43cb-f56f-091a9b16fc3a",
        "colab": {
          "base_uri": "https://localhost:8080/"
        }
      },
      "outputs": [
        {
          "output_type": "execute_result",
          "data": {
            "text/plain": [
              "1"
            ]
          },
          "metadata": {},
          "execution_count": 37
        }
      ],
      "source": [
        "np.argmax(scores)"
      ]
    },
    {
      "cell_type": "code",
      "execution_count": 38,
      "id": "306337ab-b166-4b55-b2e5-51d771b88169",
      "metadata": {
        "id": "306337ab-b166-4b55-b2e5-51d771b88169",
        "outputId": "b3f9c06d-50a2-4b25-eaba-d524121288be",
        "colab": {
          "base_uri": "https://localhost:8080/"
        }
      },
      "outputs": [
        {
          "output_type": "execute_result",
          "data": {
            "text/plain": [
              "0.9920392801147885"
            ]
          },
          "metadata": {},
          "execution_count": 38
        }
      ],
      "source": [
        "scores[np.argmax(scores)]"
      ]
    },
    {
      "cell_type": "code",
      "execution_count": 40,
      "id": "715607d1-0184-42a8-a9ad-419fca6c36de",
      "metadata": {
        "id": "715607d1-0184-42a8-a9ad-419fca6c36de",
        "outputId": "48ca2666-3543-4d76-873b-87cfc083b5b5",
        "colab": {
          "base_uri": "https://localhost:8080/"
        }
      },
      "outputs": [
        {
          "output_type": "execute_result",
          "data": {
            "text/plain": [
              "0.9920392801147885"
            ]
          },
          "metadata": {},
          "execution_count": 40
        }
      ],
      "source": [
        "r2_score(y_test,y_pred)"
      ]
    }
  ],
  "metadata": {
    "kernelspec": {
      "display_name": "Python 3 (ipykernel)",
      "language": "python",
      "name": "python3"
    },
    "language_info": {
      "codemirror_mode": {
        "name": "ipython",
        "version": 3
      },
      "file_extension": ".py",
      "mimetype": "text/x-python",
      "name": "python",
      "nbconvert_exporter": "python",
      "pygments_lexer": "ipython3",
      "version": "3.9.13"
    },
    "colab": {
      "provenance": []
    }
  },
  "nbformat": 4,
  "nbformat_minor": 5
}