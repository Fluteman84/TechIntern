{
  "nbformat": 4,
  "nbformat_minor": 0,
  "metadata": {
    "colab": {
      "provenance": []
    },
    "kernelspec": {
      "name": "python3",
      "display_name": "Python 3"
    },
    "language_info": {
      "name": "python"
    }
  },
  "cells": [
    {
      "cell_type": "code",
      "execution_count": 158,
      "metadata": {
        "id": "KLGZey8tOkdu"
      },
      "outputs": [],
      "source": [
        "import pandas as pd\n",
        "from sklearn.model_selection import train_test_split\n",
        "from sklearn.preprocessing import StandardScaler, LabelEncoder\n",
        "from tensorflow.keras.models import Sequential\n",
        "from tensorflow.keras.layers import Dense\n",
        "from tensorflow.keras.utils import to_categorical"
      ]
    },
    {
      "cell_type": "code",
      "source": [
        "data = pd.read_csv(\"https://raw.githubusercontent.com/Fluteman84/TechIntern/main/weatherHistory.csv\")"
      ],
      "metadata": {
        "id": "_vSj6tAjPl6Z"
      },
      "execution_count": 159,
      "outputs": []
    },
    {
      "cell_type": "code",
      "source": [
        "data.columns"
      ],
      "metadata": {
        "colab": {
          "base_uri": "https://localhost:8080/"
        },
        "id": "Hof0lQu4YSuU",
        "outputId": "9472a425-2294-42c5-96a3-46c1d4c11022"
      },
      "execution_count": 160,
      "outputs": [
        {
          "output_type": "execute_result",
          "data": {
            "text/plain": [
              "Index(['Formatted Date', 'Summary', 'Precip Type', 'Temperature (C)',\n",
              "       'Apparent Temperature (C)', 'Humidity', 'Wind Speed (km/h)',\n",
              "       'Wind Bearing (degrees)', 'Visibility (km)', 'Loud Cover',\n",
              "       'Pressure (millibars)', 'Daily Summary'],\n",
              "      dtype='object')"
            ]
          },
          "metadata": {},
          "execution_count": 160
        }
      ]
    },
    {
      "cell_type": "code",
      "source": [
        "data = data.dropna()  # Remove rows with missing values\n",
        "data= data[['Summary', 'Temperature (C)', 'Apparent Temperature (C)', 'Humidity',\n",
        "                   'Wind Speed (km/h)', 'Wind Bearing (degrees)', 'Visibility (km)', 'Pressure (millibars)']]"
      ],
      "metadata": {
        "id": "JRBmiawNWEBh"
      },
      "execution_count": 161,
      "outputs": []
    },
    {
      "cell_type": "code",
      "source": [
        "label_encoder = LabelEncoder()\n",
        "data['Summary'] = label_encoder.fit_transform(data['Summary'])"
      ],
      "metadata": {
        "id": "0R8S2_hJdWWQ"
      },
      "execution_count": 162,
      "outputs": []
    },
    {
      "cell_type": "code",
      "source": [
        "X = data.drop(['Summary'], axis=1)\n",
        "y = data['Summary']"
      ],
      "metadata": {
        "id": "RERL0XveXWK2"
      },
      "execution_count": 163,
      "outputs": []
    },
    {
      "cell_type": "code",
      "source": [
        "y = to_categorical(y)"
      ],
      "metadata": {
        "id": "IqM_8-qVg69g"
      },
      "execution_count": 164,
      "outputs": []
    },
    {
      "cell_type": "code",
      "source": [
        "scaler = StandardScaler()\n",
        "X = scaler.fit_transform(X)"
      ],
      "metadata": {
        "id": "FVLlBHTvZjKp"
      },
      "execution_count": 165,
      "outputs": []
    },
    {
      "cell_type": "code",
      "source": [
        "X_train, X_test, y_train, y_test = train_test_split(X, y, test_size=0.2, random_state=42)"
      ],
      "metadata": {
        "id": "xb8vYozgZmBo"
      },
      "execution_count": 166,
      "outputs": []
    },
    {
      "cell_type": "code",
      "source": [
        "model = Sequential()\n",
        "model.add(Dense(64, input_shape=(X_train.shape[1],), activation='relu'))\n",
        "model.add(Dense(32, activation='relu'))\n",
        "model.add(Dense(16, activation='relu'))\n",
        "model.add(Dense(y_train.shape[1], activation='softmax'))"
      ],
      "metadata": {
        "id": "n6LA6DXjZqR6"
      },
      "execution_count": 167,
      "outputs": []
    },
    {
      "cell_type": "code",
      "source": [
        "model.compile(loss='categorical_crossentropy', optimizer='adam', metrics=['accuracy'])"
      ],
      "metadata": {
        "id": "ThC5u83pZs6J"
      },
      "execution_count": 168,
      "outputs": []
    },
    {
      "cell_type": "code",
      "source": [
        "model.fit(X_train, y_train, epochs=10, batch_size=32, validation_data=(X_test, y_test))"
      ],
      "metadata": {
        "colab": {
          "base_uri": "https://localhost:8080/"
        },
        "id": "Of89SQ94ZuxI",
        "outputId": "f3f18c4f-f019-4d28-c464-f474cfa23f99"
      },
      "execution_count": 169,
      "outputs": [
        {
          "output_type": "stream",
          "name": "stdout",
          "text": [
            "Epoch 1/10\n",
            "2399/2399 [==============================] - 7s 2ms/step - loss: 1.2260 - accuracy: 0.4810 - val_loss: 1.1153 - val_accuracy: 0.5130\n",
            "Epoch 2/10\n",
            "2399/2399 [==============================] - 5s 2ms/step - loss: 1.1023 - accuracy: 0.5088 - val_loss: 1.0975 - val_accuracy: 0.5163\n",
            "Epoch 3/10\n",
            "2399/2399 [==============================] - 6s 3ms/step - loss: 1.0821 - accuracy: 0.5145 - val_loss: 1.0774 - val_accuracy: 0.5172\n",
            "Epoch 4/10\n",
            "2399/2399 [==============================] - 5s 2ms/step - loss: 1.0728 - accuracy: 0.5184 - val_loss: 1.0854 - val_accuracy: 0.5084\n",
            "Epoch 5/10\n",
            "2399/2399 [==============================] - 6s 3ms/step - loss: 1.0665 - accuracy: 0.5184 - val_loss: 1.0626 - val_accuracy: 0.5235\n",
            "Epoch 6/10\n",
            "2399/2399 [==============================] - 5s 2ms/step - loss: 1.0637 - accuracy: 0.5195 - val_loss: 1.0586 - val_accuracy: 0.5261\n",
            "Epoch 7/10\n",
            "2399/2399 [==============================] - 6s 2ms/step - loss: 1.0593 - accuracy: 0.5209 - val_loss: 1.0593 - val_accuracy: 0.5257\n",
            "Epoch 8/10\n",
            "2399/2399 [==============================] - 5s 2ms/step - loss: 1.0559 - accuracy: 0.5219 - val_loss: 1.0608 - val_accuracy: 0.5275\n",
            "Epoch 9/10\n",
            "2399/2399 [==============================] - 5s 2ms/step - loss: 1.0542 - accuracy: 0.5224 - val_loss: 1.0596 - val_accuracy: 0.5217\n",
            "Epoch 10/10\n",
            "2399/2399 [==============================] - 6s 2ms/step - loss: 1.0512 - accuracy: 0.5242 - val_loss: 1.0530 - val_accuracy: 0.5265\n"
          ]
        },
        {
          "output_type": "execute_result",
          "data": {
            "text/plain": [
              "<keras.callbacks.History at 0x7f003b47f940>"
            ]
          },
          "metadata": {},
          "execution_count": 169
        }
      ]
    },
    {
      "cell_type": "code",
      "source": [
        "loss, accuracy = model.evaluate(X_test, y_test)\n",
        "print(\"Test Loss:\", loss)\n",
        "print(\"Test Accuracy:\", accuracy*100)"
      ],
      "metadata": {
        "colab": {
          "base_uri": "https://localhost:8080/"
        },
        "id": "W1fhb6ethxn6",
        "outputId": "be4a797e-b6e5-4803-80e7-67c778f30038"
      },
      "execution_count": 171,
      "outputs": [
        {
          "output_type": "stream",
          "name": "stdout",
          "text": [
            "600/600 [==============================] - 1s 1ms/step - loss: 1.0530 - accuracy: 0.5265\n",
            "Test Loss: 1.052992820739746\n",
            "Test Accuracy: 52.65269875526428\n"
          ]
        }
      ]
    }
  ]
}